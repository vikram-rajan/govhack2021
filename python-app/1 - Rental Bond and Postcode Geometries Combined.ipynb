{
 "cells": [
  {
   "cell_type": "code",
   "execution_count": 1,
   "id": "3f0fcb30",
   "metadata": {},
   "outputs": [
    {
     "data": {
      "text/html": [
       "<style>.container { width:100% !important; }</style>"
      ],
      "text/plain": [
       "<IPython.core.display.HTML object>"
      ]
     },
     "metadata": {},
     "output_type": "display_data"
    }
   ],
   "source": [
    "import pandas as pd\n",
    "import geopandas as gpd\n",
    "#import hvplot.pandas  # noqa\n",
    "\n",
    "#import cartopy.crs as ccrs\n",
    "\n",
    "from IPython.core.display import display, HTML\n",
    "display(HTML(\"<style>.container { width:100% !important; }</style>\"))"
   ]
  },
  {
   "cell_type": "code",
   "execution_count": null,
   "id": "af71cf4f",
   "metadata": {},
   "outputs": [],
   "source": [
    "rental = pd.read_csv(\"govhack2021-main/python-app/rental_data.csv\")"
   ]
  },
  {
   "cell_type": "code",
   "execution_count": null,
   "id": "b1b844a6",
   "metadata": {},
   "outputs": [],
   "source": [
    "aus = gpd.read_file(\"govhack2021-main/react-app/src/data/australia.json\")\n",
    "aus"
   ]
  },
  {
   "cell_type": "code",
   "execution_count": null,
   "id": "6170291f",
   "metadata": {},
   "outputs": [],
   "source": [
    "aus_postcode = gpd.read_file(\"govhack2021-main/react-app/src/data/australia_postcode.json\")\n",
    "aus_postcode"
   ]
  },
  {
   "cell_type": "code",
   "execution_count": null,
   "id": "bad67e6e",
   "metadata": {},
   "outputs": [],
   "source": [
    "post_to_sub = pd.read_excel(\"1270055006_CG_POSTCODE_2011_SA2_2011.xls\", sheet_name=\"Table 3\", skiprows=5)\n",
    "post_to_sub.drop([0, 5989, 5990, 5991], axis=0, inplace=True)"
   ]
  },
  {
   "cell_type": "code",
   "execution_count": null,
   "id": "84975f8f",
   "metadata": {},
   "outputs": [],
   "source": [
    "aus_postcode_sub = pd.merge(aus_postcode, post_to_sub, right_on='POSTCODE', left_on='POA_CODE')\n",
    "aus_postcode_sub['POA_CODE'] = aus_postcode_sub['POA_CODE'].astype(int)"
   ]
  },
  {
   "cell_type": "code",
   "execution_count": null,
   "id": "0d77ce4d",
   "metadata": {},
   "outputs": [],
   "source": [
    "aus_postcode_sub_rental = pd.merge(rental, aus_postcode_sub, left_on='Postcode', right_on='POA_CODE')\n",
    "aus_postcode_sub_rental"
   ]
  },
  {
   "cell_type": "code",
   "execution_count": null,
   "id": "8de24585",
   "metadata": {},
   "outputs": [],
   "source": [
    "aus_postcode_sub_rental.drop(['RATIO', 'PERCENTAGE', 'POA_NAME', 'POSTCODE.1', 'POA_CODE'], axis=1, inplace=True)"
   ]
  },
  {
   "cell_type": "code",
   "execution_count": null,
   "id": "a193d77e",
   "metadata": {},
   "outputs": [],
   "source": [
    "df = aus_postcode_sub_rental.copy()"
   ]
  },
  {
   "cell_type": "code",
   "execution_count": null,
   "id": "f5ea6467",
   "metadata": {},
   "outputs": [],
   "source": [
    "df['SA_NAME_2011_list'] = df.groupby(['Postcode', 'Year', 'Month'])['SA2_NAME_2011'].transform(lambda x: '-'.join(x))"
   ]
  },
  {
   "cell_type": "code",
   "execution_count": null,
   "id": "1f7b4512",
   "metadata": {},
   "outputs": [],
   "source": [
    "df = df[['Postcode', 'Year', 'Month', '# of Bonds', 'SQKM', 'geometry', 'SA_NAME_2011_list']].drop_duplicates()"
   ]
  },
  {
   "cell_type": "code",
   "execution_count": null,
   "id": "901fb068",
   "metadata": {},
   "outputs": [],
   "source": [
    "gdf = gpd.GeoDataFrame(df, geometry=df['geometry'])"
   ]
  },
  {
   "cell_type": "code",
   "execution_count": null,
   "id": "23c8fe77",
   "metadata": {},
   "outputs": [],
   "source": [
    "gdf.drop('Date', axis=1, inplace=True)"
   ]
  },
  {
   "cell_type": "code",
   "execution_count": null,
   "id": "d8e94695",
   "metadata": {},
   "outputs": [],
   "source": [
    "gdf.to_file('australia_postcode_rentals1.json', driver=\"GeoJSON\")"
   ]
  }
 ],
 "metadata": {
  "kernelspec": {
   "display_name": "Python 3",
   "language": "python",
   "name": "python3"
  },
  "language_info": {
   "codemirror_mode": {
    "name": "ipython",
    "version": 3
   },
   "file_extension": ".py",
   "mimetype": "text/x-python",
   "name": "python",
   "nbconvert_exporter": "python",
   "pygments_lexer": "ipython3",
   "version": "3.8.8"
  }
 },
 "nbformat": 4,
 "nbformat_minor": 5
}
